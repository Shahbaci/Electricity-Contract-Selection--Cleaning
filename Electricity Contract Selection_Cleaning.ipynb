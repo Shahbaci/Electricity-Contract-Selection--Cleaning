{
 "cells": [
  {
   "cell_type": "code",
   "execution_count": 1,
   "id": "588cdb50-3bb1-4d63-a25f-c1f0690ab49a",
   "metadata": {},
   "outputs": [],
   "source": [
    "import os\n",
    "import sys\n",
    "import re\n",
    "\n",
    "from pprint import pprint\n",
    "from datetime import datetime\n",
    "\n",
    "import pandas as pd\n",
    "import numpy as np"
   ]
  },
  {
   "cell_type": "markdown",
   "id": "35d68e92-9f79-43dc-b4f8-79e6ca27fc5b",
   "metadata": {},
   "source": [
    "## Load Data"
   ]
  },
  {
   "cell_type": "code",
   "execution_count": 2,
   "id": "88794656-3397-4b09-bc84-d61a1b0991f4",
   "metadata": {},
   "outputs": [
    {
     "data": {
      "text/html": [
       "<div>\n",
       "<style scoped>\n",
       "    .dataframe tbody tr th:only-of-type {\n",
       "        vertical-align: middle;\n",
       "    }\n",
       "\n",
       "    .dataframe tbody tr th {\n",
       "        vertical-align: top;\n",
       "    }\n",
       "\n",
       "    .dataframe thead th {\n",
       "        text-align: right;\n",
       "    }\n",
       "</style>\n",
       "<table border=\"1\" class=\"dataframe\">\n",
       "  <thead>\n",
       "    <tr style=\"text-align: right;\">\n",
       "      <th></th>\n",
       "      <th>usage</th>\n",
       "    </tr>\n",
       "  </thead>\n",
       "  <tbody>\n",
       "    <tr>\n",
       "      <th>0</th>\n",
       "      <td>3 pm  mon 24th-mar-2014___0.384 kwh</td>\n",
       "    </tr>\n",
       "    <tr>\n",
       "      <th>1</th>\n",
       "      <td>5am  15-aug-2014___1.201  kwh</td>\n",
       "    </tr>\n",
       "    <tr>\n",
       "      <th>2</th>\n",
       "      <td>__8pm thu 20-mar-2014____1.523 kwh</td>\n",
       "    </tr>\n",
       "    <tr>\n",
       "      <th>3</th>\n",
       "      <td>6pm  23rd-apr-2014___0.424  kwh</td>\n",
       "    </tr>\n",
       "    <tr>\n",
       "      <th>4</th>\n",
       "      <td>_1am  friday 19th-dec-2014___0.209  kwh</td>\n",
       "    </tr>\n",
       "  </tbody>\n",
       "</table>\n",
       "</div>"
      ],
      "text/plain": [
       "                                     usage\n",
       "0      3 pm  mon 24th-mar-2014___0.384 kwh\n",
       "1            5am  15-aug-2014___1.201  kwh\n",
       "2       __8pm thu 20-mar-2014____1.523 kwh\n",
       "3          6pm  23rd-apr-2014___0.424  kwh\n",
       "4  _1am  friday 19th-dec-2014___0.209  kwh"
      ]
     },
     "execution_count": 2,
     "metadata": {},
     "output_type": "execute_result"
    }
   ],
   "source": [
    "io = 'data_cleaning.xlsx'\n",
    "sheetname = 'Usage'\n",
    "df = pd.read_excel(io , sheet_name = 'Usage',header = None)\n",
    "df.columns = ['usage']\n",
    "df['usage'] = df['usage'].str.lower().str.strip()\n",
    "df.head()"
   ]
  },
  {
   "cell_type": "markdown",
   "id": "627ea695-6e4e-4d9d-b3fd-80afff78e3c9",
   "metadata": {},
   "source": [
    "## Data Cleaning"
   ]
  },
  {
   "cell_type": "code",
   "execution_count": 3,
   "id": "b80be06b-a0f6-470b-b48f-b6fb6cea212e",
   "metadata": {},
   "outputs": [],
   "source": [
    "# regex istifade ederek datanin ayrilmasi\n",
    "pattern = re.compile(r\"(?:[\\s\\-\\_]*)(\\d+)(?:[\\s\\-\\_]*)(am|pm)(?:[a-z\\s]*)(\\d{1,2})(?:.*)([a-z]{3})(?:[\\s\\-\\_]*)(\\d{4})(?:[\\s\\-\\_]*)(\\d+\\.?\\d+)\")\n",
    "\n",
    "def parse(row, pattern):\n",
    "    text = row['usage']\n",
    "    matched = pattern.match(text)\n",
    "    return int(matched.group(1)), str(matched.group(2)),int(matched.group(3)), str(matched.group(4)), int(matched.group(5)), float(matched.group(6))\n",
    "\n",
    "cl_df = df.apply(func = parse, args = (pattern,), axis = 1, result_type = 'expand')\n",
    "cl_df.columns = ['hour', 'am_pm', 'day', 'month', 'year', 'kwh']"
   ]
  },
  {
   "cell_type": "code",
   "execution_count": 4,
   "id": "cd232003-0464-44e5-9a56-f3c9a00f624d",
   "metadata": {},
   "outputs": [
    {
     "data": {
      "text/html": [
       "<div>\n",
       "<style scoped>\n",
       "    .dataframe tbody tr th:only-of-type {\n",
       "        vertical-align: middle;\n",
       "    }\n",
       "\n",
       "    .dataframe tbody tr th {\n",
       "        vertical-align: top;\n",
       "    }\n",
       "\n",
       "    .dataframe thead th {\n",
       "        text-align: right;\n",
       "    }\n",
       "</style>\n",
       "<table border=\"1\" class=\"dataframe\">\n",
       "  <thead>\n",
       "    <tr style=\"text-align: right;\">\n",
       "      <th></th>\n",
       "      <th>hour</th>\n",
       "      <th>am_pm</th>\n",
       "      <th>day</th>\n",
       "      <th>month</th>\n",
       "      <th>year</th>\n",
       "      <th>kwh</th>\n",
       "    </tr>\n",
       "  </thead>\n",
       "  <tbody>\n",
       "    <tr>\n",
       "      <th>0</th>\n",
       "      <td>3</td>\n",
       "      <td>pm</td>\n",
       "      <td>24</td>\n",
       "      <td>mar</td>\n",
       "      <td>2014</td>\n",
       "      <td>0.384</td>\n",
       "    </tr>\n",
       "    <tr>\n",
       "      <th>1</th>\n",
       "      <td>5</td>\n",
       "      <td>am</td>\n",
       "      <td>15</td>\n",
       "      <td>aug</td>\n",
       "      <td>2014</td>\n",
       "      <td>1.201</td>\n",
       "    </tr>\n",
       "    <tr>\n",
       "      <th>2</th>\n",
       "      <td>8</td>\n",
       "      <td>pm</td>\n",
       "      <td>20</td>\n",
       "      <td>mar</td>\n",
       "      <td>2014</td>\n",
       "      <td>1.523</td>\n",
       "    </tr>\n",
       "    <tr>\n",
       "      <th>3</th>\n",
       "      <td>6</td>\n",
       "      <td>pm</td>\n",
       "      <td>23</td>\n",
       "      <td>apr</td>\n",
       "      <td>2014</td>\n",
       "      <td>0.424</td>\n",
       "    </tr>\n",
       "    <tr>\n",
       "      <th>4</th>\n",
       "      <td>1</td>\n",
       "      <td>am</td>\n",
       "      <td>19</td>\n",
       "      <td>dec</td>\n",
       "      <td>2014</td>\n",
       "      <td>0.209</td>\n",
       "    </tr>\n",
       "  </tbody>\n",
       "</table>\n",
       "</div>"
      ],
      "text/plain": [
       "   hour am_pm  day month  year    kwh\n",
       "0     3    pm   24   mar  2014  0.384\n",
       "1     5    am   15   aug  2014  1.201\n",
       "2     8    pm   20   mar  2014  1.523\n",
       "3     6    pm   23   apr  2014  0.424\n",
       "4     1    am   19   dec  2014  0.209"
      ]
     },
     "execution_count": 4,
     "metadata": {},
     "output_type": "execute_result"
    }
   ],
   "source": [
    "cl_df.head()"
   ]
  },
  {
   "cell_type": "code",
   "execution_count": 5,
   "id": "103ef6d1-2219-4b48-9353-fa4ecd26802d",
   "metadata": {},
   "outputs": [],
   "source": [
    "# tarix ve saati birlikde gosteren datetime sutunu yaratmaq "
   ]
  },
  {
   "cell_type": "code",
   "execution_count": 6,
   "id": "ce63e2cf-e88f-485a-a064-681a4d9ba036",
   "metadata": {},
   "outputs": [],
   "source": [
    "def convert_datetime(row):\n",
    "    str_time = f\"{row['year']}-{row['month']}-{row['day']}-{row['hour']}-{row['am_pm']}\"\n",
    "    return pd.to_datetime(datetime.strptime(str_time,\"%Y-%b-%d-%I-%p\"))"
   ]
  },
  {
   "cell_type": "code",
   "execution_count": 7,
   "id": "1b7dd799-670b-4cd4-bfbb-f46ea081a532",
   "metadata": {},
   "outputs": [],
   "source": [
    "cl_df['datetime'] = cl_df.apply(func = convert_datetime, axis=1, result_type = 'expand')"
   ]
  },
  {
   "cell_type": "code",
   "execution_count": 8,
   "id": "f40aa6e3-0e75-40e2-a142-edfcb9ed72a0",
   "metadata": {},
   "outputs": [
    {
     "data": {
      "text/html": [
       "<div>\n",
       "<style scoped>\n",
       "    .dataframe tbody tr th:only-of-type {\n",
       "        vertical-align: middle;\n",
       "    }\n",
       "\n",
       "    .dataframe tbody tr th {\n",
       "        vertical-align: top;\n",
       "    }\n",
       "\n",
       "    .dataframe thead th {\n",
       "        text-align: right;\n",
       "    }\n",
       "</style>\n",
       "<table border=\"1\" class=\"dataframe\">\n",
       "  <thead>\n",
       "    <tr style=\"text-align: right;\">\n",
       "      <th></th>\n",
       "      <th>hour</th>\n",
       "      <th>am_pm</th>\n",
       "      <th>day</th>\n",
       "      <th>month</th>\n",
       "      <th>year</th>\n",
       "      <th>kwh</th>\n",
       "      <th>datetime</th>\n",
       "    </tr>\n",
       "  </thead>\n",
       "  <tbody>\n",
       "    <tr>\n",
       "      <th>0</th>\n",
       "      <td>3</td>\n",
       "      <td>pm</td>\n",
       "      <td>24</td>\n",
       "      <td>mar</td>\n",
       "      <td>2014</td>\n",
       "      <td>0.384</td>\n",
       "      <td>2014-03-24 15:00:00</td>\n",
       "    </tr>\n",
       "    <tr>\n",
       "      <th>1</th>\n",
       "      <td>5</td>\n",
       "      <td>am</td>\n",
       "      <td>15</td>\n",
       "      <td>aug</td>\n",
       "      <td>2014</td>\n",
       "      <td>1.201</td>\n",
       "      <td>2014-08-15 05:00:00</td>\n",
       "    </tr>\n",
       "    <tr>\n",
       "      <th>2</th>\n",
       "      <td>8</td>\n",
       "      <td>pm</td>\n",
       "      <td>20</td>\n",
       "      <td>mar</td>\n",
       "      <td>2014</td>\n",
       "      <td>1.523</td>\n",
       "      <td>2014-03-20 20:00:00</td>\n",
       "    </tr>\n",
       "    <tr>\n",
       "      <th>3</th>\n",
       "      <td>6</td>\n",
       "      <td>pm</td>\n",
       "      <td>23</td>\n",
       "      <td>apr</td>\n",
       "      <td>2014</td>\n",
       "      <td>0.424</td>\n",
       "      <td>2014-04-23 18:00:00</td>\n",
       "    </tr>\n",
       "    <tr>\n",
       "      <th>4</th>\n",
       "      <td>1</td>\n",
       "      <td>am</td>\n",
       "      <td>19</td>\n",
       "      <td>dec</td>\n",
       "      <td>2014</td>\n",
       "      <td>0.209</td>\n",
       "      <td>2014-12-19 01:00:00</td>\n",
       "    </tr>\n",
       "    <tr>\n",
       "      <th>...</th>\n",
       "      <td>...</td>\n",
       "      <td>...</td>\n",
       "      <td>...</td>\n",
       "      <td>...</td>\n",
       "      <td>...</td>\n",
       "      <td>...</td>\n",
       "      <td>...</td>\n",
       "    </tr>\n",
       "    <tr>\n",
       "      <th>8755</th>\n",
       "      <td>1</td>\n",
       "      <td>am</td>\n",
       "      <td>7</td>\n",
       "      <td>nov</td>\n",
       "      <td>2014</td>\n",
       "      <td>0.084</td>\n",
       "      <td>2014-11-07 01:00:00</td>\n",
       "    </tr>\n",
       "    <tr>\n",
       "      <th>8756</th>\n",
       "      <td>6</td>\n",
       "      <td>am</td>\n",
       "      <td>20</td>\n",
       "      <td>may</td>\n",
       "      <td>2014</td>\n",
       "      <td>1.027</td>\n",
       "      <td>2014-05-20 06:00:00</td>\n",
       "    </tr>\n",
       "    <tr>\n",
       "      <th>8757</th>\n",
       "      <td>2</td>\n",
       "      <td>am</td>\n",
       "      <td>8</td>\n",
       "      <td>apr</td>\n",
       "      <td>2014</td>\n",
       "      <td>0.052</td>\n",
       "      <td>2014-04-08 02:00:00</td>\n",
       "    </tr>\n",
       "    <tr>\n",
       "      <th>8758</th>\n",
       "      <td>9</td>\n",
       "      <td>pm</td>\n",
       "      <td>27</td>\n",
       "      <td>jan</td>\n",
       "      <td>2014</td>\n",
       "      <td>1.428</td>\n",
       "      <td>2014-01-27 21:00:00</td>\n",
       "    </tr>\n",
       "    <tr>\n",
       "      <th>8759</th>\n",
       "      <td>12</td>\n",
       "      <td>pm</td>\n",
       "      <td>25</td>\n",
       "      <td>aug</td>\n",
       "      <td>2014</td>\n",
       "      <td>0.528</td>\n",
       "      <td>2014-08-25 12:00:00</td>\n",
       "    </tr>\n",
       "  </tbody>\n",
       "</table>\n",
       "<p>8760 rows × 7 columns</p>\n",
       "</div>"
      ],
      "text/plain": [
       "      hour am_pm  day month  year    kwh            datetime\n",
       "0        3    pm   24   mar  2014  0.384 2014-03-24 15:00:00\n",
       "1        5    am   15   aug  2014  1.201 2014-08-15 05:00:00\n",
       "2        8    pm   20   mar  2014  1.523 2014-03-20 20:00:00\n",
       "3        6    pm   23   apr  2014  0.424 2014-04-23 18:00:00\n",
       "4        1    am   19   dec  2014  0.209 2014-12-19 01:00:00\n",
       "...    ...   ...  ...   ...   ...    ...                 ...\n",
       "8755     1    am    7   nov  2014  0.084 2014-11-07 01:00:00\n",
       "8756     6    am   20   may  2014  1.027 2014-05-20 06:00:00\n",
       "8757     2    am    8   apr  2014  0.052 2014-04-08 02:00:00\n",
       "8758     9    pm   27   jan  2014  1.428 2014-01-27 21:00:00\n",
       "8759    12    pm   25   aug  2014  0.528 2014-08-25 12:00:00\n",
       "\n",
       "[8760 rows x 7 columns]"
      ]
     },
     "execution_count": 8,
     "metadata": {},
     "output_type": "execute_result"
    }
   ],
   "source": [
    "cl_df"
   ]
  },
  {
   "cell_type": "code",
   "execution_count": 9,
   "id": "d99a0d41-4a39-4835-b5af-3e2d810ca263",
   "metadata": {},
   "outputs": [],
   "source": [
    "# heftenin gunleri ucun column yaratmaq"
   ]
  },
  {
   "cell_type": "code",
   "execution_count": 10,
   "id": "1ba6bd16-5b0a-4e56-b416-2328636a92c0",
   "metadata": {},
   "outputs": [],
   "source": [
    "day_of_week = {\n",
    "    0:'Monday',\n",
    "    1: 'Tuesday',\n",
    "    2: 'Wednesday',\n",
    "    3:'Thursday',\n",
    "    4:'Friday',\n",
    "    5:'Saturday',\n",
    "    6:'Sunday'\n",
    "}"
   ]
  },
  {
   "cell_type": "code",
   "execution_count": 11,
   "id": "21a2e468-aa9f-44b0-9578-2ff64926b8be",
   "metadata": {},
   "outputs": [
    {
     "data": {
      "text/html": [
       "<div>\n",
       "<style scoped>\n",
       "    .dataframe tbody tr th:only-of-type {\n",
       "        vertical-align: middle;\n",
       "    }\n",
       "\n",
       "    .dataframe tbody tr th {\n",
       "        vertical-align: top;\n",
       "    }\n",
       "\n",
       "    .dataframe thead th {\n",
       "        text-align: right;\n",
       "    }\n",
       "</style>\n",
       "<table border=\"1\" class=\"dataframe\">\n",
       "  <thead>\n",
       "    <tr style=\"text-align: right;\">\n",
       "      <th></th>\n",
       "      <th>hour</th>\n",
       "      <th>am_pm</th>\n",
       "      <th>day</th>\n",
       "      <th>month</th>\n",
       "      <th>year</th>\n",
       "      <th>kwh</th>\n",
       "      <th>datetime</th>\n",
       "      <th>d_o_w</th>\n",
       "    </tr>\n",
       "  </thead>\n",
       "  <tbody>\n",
       "    <tr>\n",
       "      <th>0</th>\n",
       "      <td>3</td>\n",
       "      <td>pm</td>\n",
       "      <td>24</td>\n",
       "      <td>mar</td>\n",
       "      <td>2014</td>\n",
       "      <td>0.384</td>\n",
       "      <td>2014-03-24 15:00:00</td>\n",
       "      <td>Monday</td>\n",
       "    </tr>\n",
       "    <tr>\n",
       "      <th>1</th>\n",
       "      <td>5</td>\n",
       "      <td>am</td>\n",
       "      <td>15</td>\n",
       "      <td>aug</td>\n",
       "      <td>2014</td>\n",
       "      <td>1.201</td>\n",
       "      <td>2014-08-15 05:00:00</td>\n",
       "      <td>Friday</td>\n",
       "    </tr>\n",
       "    <tr>\n",
       "      <th>2</th>\n",
       "      <td>8</td>\n",
       "      <td>pm</td>\n",
       "      <td>20</td>\n",
       "      <td>mar</td>\n",
       "      <td>2014</td>\n",
       "      <td>1.523</td>\n",
       "      <td>2014-03-20 20:00:00</td>\n",
       "      <td>Thursday</td>\n",
       "    </tr>\n",
       "    <tr>\n",
       "      <th>3</th>\n",
       "      <td>6</td>\n",
       "      <td>pm</td>\n",
       "      <td>23</td>\n",
       "      <td>apr</td>\n",
       "      <td>2014</td>\n",
       "      <td>0.424</td>\n",
       "      <td>2014-04-23 18:00:00</td>\n",
       "      <td>Wednesday</td>\n",
       "    </tr>\n",
       "    <tr>\n",
       "      <th>4</th>\n",
       "      <td>1</td>\n",
       "      <td>am</td>\n",
       "      <td>19</td>\n",
       "      <td>dec</td>\n",
       "      <td>2014</td>\n",
       "      <td>0.209</td>\n",
       "      <td>2014-12-19 01:00:00</td>\n",
       "      <td>Friday</td>\n",
       "    </tr>\n",
       "  </tbody>\n",
       "</table>\n",
       "</div>"
      ],
      "text/plain": [
       "   hour am_pm  day month  year    kwh            datetime      d_o_w\n",
       "0     3    pm   24   mar  2014  0.384 2014-03-24 15:00:00     Monday\n",
       "1     5    am   15   aug  2014  1.201 2014-08-15 05:00:00     Friday\n",
       "2     8    pm   20   mar  2014  1.523 2014-03-20 20:00:00   Thursday\n",
       "3     6    pm   23   apr  2014  0.424 2014-04-23 18:00:00  Wednesday\n",
       "4     1    am   19   dec  2014  0.209 2014-12-19 01:00:00     Friday"
      ]
     },
     "execution_count": 11,
     "metadata": {},
     "output_type": "execute_result"
    }
   ],
   "source": [
    "cl_df['d_o_w'] = cl_df['datetime'].dt.dayofweek.map(day_of_week)\n",
    "cl_df.head()"
   ]
  },
  {
   "cell_type": "code",
   "execution_count": 12,
   "id": "e002683a-9dec-44fa-9ae2-bd8517e29b70",
   "metadata": {},
   "outputs": [],
   "source": [
    "# saati cixarmaq (24 saatliq)"
   ]
  },
  {
   "cell_type": "code",
   "execution_count": 13,
   "id": "60bf24e6-613c-4643-a162-5e52d81f4be8",
   "metadata": {},
   "outputs": [
    {
     "data": {
      "text/html": [
       "<div>\n",
       "<style scoped>\n",
       "    .dataframe tbody tr th:only-of-type {\n",
       "        vertical-align: middle;\n",
       "    }\n",
       "\n",
       "    .dataframe tbody tr th {\n",
       "        vertical-align: top;\n",
       "    }\n",
       "\n",
       "    .dataframe thead th {\n",
       "        text-align: right;\n",
       "    }\n",
       "</style>\n",
       "<table border=\"1\" class=\"dataframe\">\n",
       "  <thead>\n",
       "    <tr style=\"text-align: right;\">\n",
       "      <th></th>\n",
       "      <th>hour</th>\n",
       "      <th>am_pm</th>\n",
       "      <th>day</th>\n",
       "      <th>month</th>\n",
       "      <th>year</th>\n",
       "      <th>kwh</th>\n",
       "      <th>datetime</th>\n",
       "      <th>d_o_w</th>\n",
       "      <th>h24</th>\n",
       "    </tr>\n",
       "  </thead>\n",
       "  <tbody>\n",
       "    <tr>\n",
       "      <th>0</th>\n",
       "      <td>3</td>\n",
       "      <td>pm</td>\n",
       "      <td>24</td>\n",
       "      <td>mar</td>\n",
       "      <td>2014</td>\n",
       "      <td>0.384</td>\n",
       "      <td>2014-03-24 15:00:00</td>\n",
       "      <td>Monday</td>\n",
       "      <td>15</td>\n",
       "    </tr>\n",
       "    <tr>\n",
       "      <th>1</th>\n",
       "      <td>5</td>\n",
       "      <td>am</td>\n",
       "      <td>15</td>\n",
       "      <td>aug</td>\n",
       "      <td>2014</td>\n",
       "      <td>1.201</td>\n",
       "      <td>2014-08-15 05:00:00</td>\n",
       "      <td>Friday</td>\n",
       "      <td>5</td>\n",
       "    </tr>\n",
       "    <tr>\n",
       "      <th>2</th>\n",
       "      <td>8</td>\n",
       "      <td>pm</td>\n",
       "      <td>20</td>\n",
       "      <td>mar</td>\n",
       "      <td>2014</td>\n",
       "      <td>1.523</td>\n",
       "      <td>2014-03-20 20:00:00</td>\n",
       "      <td>Thursday</td>\n",
       "      <td>20</td>\n",
       "    </tr>\n",
       "    <tr>\n",
       "      <th>3</th>\n",
       "      <td>6</td>\n",
       "      <td>pm</td>\n",
       "      <td>23</td>\n",
       "      <td>apr</td>\n",
       "      <td>2014</td>\n",
       "      <td>0.424</td>\n",
       "      <td>2014-04-23 18:00:00</td>\n",
       "      <td>Wednesday</td>\n",
       "      <td>18</td>\n",
       "    </tr>\n",
       "    <tr>\n",
       "      <th>4</th>\n",
       "      <td>1</td>\n",
       "      <td>am</td>\n",
       "      <td>19</td>\n",
       "      <td>dec</td>\n",
       "      <td>2014</td>\n",
       "      <td>0.209</td>\n",
       "      <td>2014-12-19 01:00:00</td>\n",
       "      <td>Friday</td>\n",
       "      <td>1</td>\n",
       "    </tr>\n",
       "  </tbody>\n",
       "</table>\n",
       "</div>"
      ],
      "text/plain": [
       "   hour am_pm  day month  year    kwh            datetime      d_o_w  h24\n",
       "0     3    pm   24   mar  2014  0.384 2014-03-24 15:00:00     Monday   15\n",
       "1     5    am   15   aug  2014  1.201 2014-08-15 05:00:00     Friday    5\n",
       "2     8    pm   20   mar  2014  1.523 2014-03-20 20:00:00   Thursday   20\n",
       "3     6    pm   23   apr  2014  0.424 2014-04-23 18:00:00  Wednesday   18\n",
       "4     1    am   19   dec  2014  0.209 2014-12-19 01:00:00     Friday    1"
      ]
     },
     "execution_count": 13,
     "metadata": {},
     "output_type": "execute_result"
    }
   ],
   "source": [
    "cl_df['h24']= cl_df['datetime'].dt.hour\n",
    "cl_df.head()"
   ]
  },
  {
   "cell_type": "code",
   "execution_count": 14,
   "id": "d2cb33ce-b7a5-46fa-b9eb-5a3420e7c1d3",
   "metadata": {},
   "outputs": [],
   "source": [
    "# datani datetime sutununa gore sortlayaq"
   ]
  },
  {
   "cell_type": "code",
   "execution_count": 15,
   "id": "63bbca33-c638-482f-bac6-928b4b388c4c",
   "metadata": {},
   "outputs": [
    {
     "data": {
      "text/html": [
       "<div>\n",
       "<style scoped>\n",
       "    .dataframe tbody tr th:only-of-type {\n",
       "        vertical-align: middle;\n",
       "    }\n",
       "\n",
       "    .dataframe tbody tr th {\n",
       "        vertical-align: top;\n",
       "    }\n",
       "\n",
       "    .dataframe thead th {\n",
       "        text-align: right;\n",
       "    }\n",
       "</style>\n",
       "<table border=\"1\" class=\"dataframe\">\n",
       "  <thead>\n",
       "    <tr style=\"text-align: right;\">\n",
       "      <th></th>\n",
       "      <th>hour</th>\n",
       "      <th>am_pm</th>\n",
       "      <th>day</th>\n",
       "      <th>month</th>\n",
       "      <th>year</th>\n",
       "      <th>kwh</th>\n",
       "      <th>datetime</th>\n",
       "      <th>d_o_w</th>\n",
       "      <th>h24</th>\n",
       "    </tr>\n",
       "  </thead>\n",
       "  <tbody>\n",
       "    <tr>\n",
       "      <th>8425</th>\n",
       "      <td>12</td>\n",
       "      <td>am</td>\n",
       "      <td>1</td>\n",
       "      <td>jan</td>\n",
       "      <td>2014</td>\n",
       "      <td>0.684</td>\n",
       "      <td>2014-01-01 00:00:00</td>\n",
       "      <td>Wednesday</td>\n",
       "      <td>0</td>\n",
       "    </tr>\n",
       "    <tr>\n",
       "      <th>6316</th>\n",
       "      <td>1</td>\n",
       "      <td>am</td>\n",
       "      <td>1</td>\n",
       "      <td>jan</td>\n",
       "      <td>2014</td>\n",
       "      <td>0.340</td>\n",
       "      <td>2014-01-01 01:00:00</td>\n",
       "      <td>Wednesday</td>\n",
       "      <td>1</td>\n",
       "    </tr>\n",
       "    <tr>\n",
       "      <th>5068</th>\n",
       "      <td>2</td>\n",
       "      <td>am</td>\n",
       "      <td>1</td>\n",
       "      <td>jan</td>\n",
       "      <td>2014</td>\n",
       "      <td>0.332</td>\n",
       "      <td>2014-01-01 02:00:00</td>\n",
       "      <td>Wednesday</td>\n",
       "      <td>2</td>\n",
       "    </tr>\n",
       "    <tr>\n",
       "      <th>4106</th>\n",
       "      <td>3</td>\n",
       "      <td>am</td>\n",
       "      <td>1</td>\n",
       "      <td>jan</td>\n",
       "      <td>2014</td>\n",
       "      <td>0.396</td>\n",
       "      <td>2014-01-01 03:00:00</td>\n",
       "      <td>Wednesday</td>\n",
       "      <td>3</td>\n",
       "    </tr>\n",
       "    <tr>\n",
       "      <th>3239</th>\n",
       "      <td>4</td>\n",
       "      <td>am</td>\n",
       "      <td>1</td>\n",
       "      <td>jan</td>\n",
       "      <td>2014</td>\n",
       "      <td>0.388</td>\n",
       "      <td>2014-01-01 04:00:00</td>\n",
       "      <td>Wednesday</td>\n",
       "      <td>4</td>\n",
       "    </tr>\n",
       "  </tbody>\n",
       "</table>\n",
       "</div>"
      ],
      "text/plain": [
       "      hour am_pm  day month  year    kwh            datetime      d_o_w  h24\n",
       "8425    12    am    1   jan  2014  0.684 2014-01-01 00:00:00  Wednesday    0\n",
       "6316     1    am    1   jan  2014  0.340 2014-01-01 01:00:00  Wednesday    1\n",
       "5068     2    am    1   jan  2014  0.332 2014-01-01 02:00:00  Wednesday    2\n",
       "4106     3    am    1   jan  2014  0.396 2014-01-01 03:00:00  Wednesday    3\n",
       "3239     4    am    1   jan  2014  0.388 2014-01-01 04:00:00  Wednesday    4"
      ]
     },
     "execution_count": 15,
     "metadata": {},
     "output_type": "execute_result"
    }
   ],
   "source": [
    "cl_df.sort_values(by = ['datetime'], ascending = True, inplace = True)\n",
    "cl_df.head()"
   ]
  },
  {
   "cell_type": "code",
   "execution_count": 16,
   "id": "51ffca82-7522-495c-8bb5-67c8b3950aa9",
   "metadata": {},
   "outputs": [
    {
     "data": {
      "text/html": [
       "<div>\n",
       "<style scoped>\n",
       "    .dataframe tbody tr th:only-of-type {\n",
       "        vertical-align: middle;\n",
       "    }\n",
       "\n",
       "    .dataframe tbody tr th {\n",
       "        vertical-align: top;\n",
       "    }\n",
       "\n",
       "    .dataframe thead th {\n",
       "        text-align: right;\n",
       "    }\n",
       "</style>\n",
       "<table border=\"1\" class=\"dataframe\">\n",
       "  <thead>\n",
       "    <tr style=\"text-align: right;\">\n",
       "      <th></th>\n",
       "      <th>hour</th>\n",
       "      <th>am_pm</th>\n",
       "      <th>day</th>\n",
       "      <th>month</th>\n",
       "      <th>year</th>\n",
       "      <th>kwh</th>\n",
       "      <th>datetime</th>\n",
       "      <th>d_o_w</th>\n",
       "      <th>h24</th>\n",
       "    </tr>\n",
       "  </thead>\n",
       "  <tbody>\n",
       "    <tr>\n",
       "      <th>0</th>\n",
       "      <td>12</td>\n",
       "      <td>am</td>\n",
       "      <td>1</td>\n",
       "      <td>jan</td>\n",
       "      <td>2014</td>\n",
       "      <td>0.684</td>\n",
       "      <td>2014-01-01 00:00:00</td>\n",
       "      <td>Wednesday</td>\n",
       "      <td>0</td>\n",
       "    </tr>\n",
       "    <tr>\n",
       "      <th>1</th>\n",
       "      <td>1</td>\n",
       "      <td>am</td>\n",
       "      <td>1</td>\n",
       "      <td>jan</td>\n",
       "      <td>2014</td>\n",
       "      <td>0.340</td>\n",
       "      <td>2014-01-01 01:00:00</td>\n",
       "      <td>Wednesday</td>\n",
       "      <td>1</td>\n",
       "    </tr>\n",
       "    <tr>\n",
       "      <th>2</th>\n",
       "      <td>2</td>\n",
       "      <td>am</td>\n",
       "      <td>1</td>\n",
       "      <td>jan</td>\n",
       "      <td>2014</td>\n",
       "      <td>0.332</td>\n",
       "      <td>2014-01-01 02:00:00</td>\n",
       "      <td>Wednesday</td>\n",
       "      <td>2</td>\n",
       "    </tr>\n",
       "    <tr>\n",
       "      <th>3</th>\n",
       "      <td>3</td>\n",
       "      <td>am</td>\n",
       "      <td>1</td>\n",
       "      <td>jan</td>\n",
       "      <td>2014</td>\n",
       "      <td>0.396</td>\n",
       "      <td>2014-01-01 03:00:00</td>\n",
       "      <td>Wednesday</td>\n",
       "      <td>3</td>\n",
       "    </tr>\n",
       "    <tr>\n",
       "      <th>4</th>\n",
       "      <td>4</td>\n",
       "      <td>am</td>\n",
       "      <td>1</td>\n",
       "      <td>jan</td>\n",
       "      <td>2014</td>\n",
       "      <td>0.388</td>\n",
       "      <td>2014-01-01 04:00:00</td>\n",
       "      <td>Wednesday</td>\n",
       "      <td>4</td>\n",
       "    </tr>\n",
       "  </tbody>\n",
       "</table>\n",
       "</div>"
      ],
      "text/plain": [
       "   hour am_pm  day month  year    kwh            datetime      d_o_w  h24\n",
       "0    12    am    1   jan  2014  0.684 2014-01-01 00:00:00  Wednesday    0\n",
       "1     1    am    1   jan  2014  0.340 2014-01-01 01:00:00  Wednesday    1\n",
       "2     2    am    1   jan  2014  0.332 2014-01-01 02:00:00  Wednesday    2\n",
       "3     3    am    1   jan  2014  0.396 2014-01-01 03:00:00  Wednesday    3\n",
       "4     4    am    1   jan  2014  0.388 2014-01-01 04:00:00  Wednesday    4"
      ]
     },
     "execution_count": 16,
     "metadata": {},
     "output_type": "execute_result"
    }
   ],
   "source": [
    "cl_df = cl_df.reset_index(drop = True)\n",
    "cl_df.head()"
   ]
  },
  {
   "cell_type": "code",
   "execution_count": 17,
   "id": "cee2ab10-a123-4e44-9803-6e6db2b6ed66",
   "metadata": {},
   "outputs": [],
   "source": [
    "# Question 1"
   ]
  },
  {
   "cell_type": "code",
   "execution_count": 19,
   "id": "39233984-0360-4718-8905-3f6ad5058260",
   "metadata": {},
   "outputs": [
    {
     "name": "stdout",
     "output_type": "stream",
     "text": [
      "0.782\n"
     ]
    }
   ],
   "source": [
    "print(np.round(cl_df[\"kwh\"].mean(), 3))"
   ]
  },
  {
   "cell_type": "code",
   "execution_count": 20,
   "id": "b2ece813-cb48-4891-9da7-82ca2da73f6f",
   "metadata": {},
   "outputs": [],
   "source": [
    "# Question 2"
   ]
  },
  {
   "cell_type": "code",
   "execution_count": 24,
   "id": "9b750a7d-0988-407c-b72a-79b47bb1f238",
   "metadata": {},
   "outputs": [
    {
     "name": "stdout",
     "output_type": "stream",
     "text": [
      "0.834\n"
     ]
    }
   ],
   "source": [
    "print(np.round(cl_df.loc[cl_df['month']=='feb',\"kwh\"].mean(), 3))"
   ]
  },
  {
   "cell_type": "code",
   "execution_count": 25,
   "id": "c242a155-d4fa-499e-a034-d768381b6999",
   "metadata": {},
   "outputs": [],
   "source": [
    "# Question 3"
   ]
  },
  {
   "cell_type": "code",
   "execution_count": 31,
   "id": "63fd6a0f-a2ae-4371-b467-5284f69d4c31",
   "metadata": {},
   "outputs": [
    {
     "name": "stdout",
     "output_type": "stream",
     "text": [
      "Sunday\n"
     ]
    }
   ],
   "source": [
    "print(cl_df.groupby(by= 'd_o_w').agg({'kwh':'mean'}).sort_values(by='kwh', ascending = False).head(1).index.values.item())"
   ]
  },
  {
   "cell_type": "code",
   "execution_count": 32,
   "id": "04976a04-9951-475c-bb74-f7a6884028af",
   "metadata": {},
   "outputs": [],
   "source": [
    "# Question 4"
   ]
  },
  {
   "cell_type": "code",
   "execution_count": 39,
   "id": "39c6b74b-5836-40b5-b746-206fc360abc9",
   "metadata": {},
   "outputs": [
    {
     "name": "stdout",
     "output_type": "stream",
     "text": [
      "17.237\n"
     ]
    }
   ],
   "source": [
    "print(np.around(cl_df['kwh'].rolling(4).sum().sort_values(ascending = False).head(1).values.item(), 3))"
   ]
  },
  {
   "cell_type": "code",
   "execution_count": 40,
   "id": "bae711e1-df68-4fcc-91b5-42dab7f945a3",
   "metadata": {},
   "outputs": [],
   "source": [
    "# Question 5"
   ]
  },
  {
   "cell_type": "code",
   "execution_count": 43,
   "id": "44bde547-12ba-4698-89f5-6f838784e4cf",
   "metadata": {},
   "outputs": [],
   "source": [
    "monthly_flex_rate = {\n",
    "    'jan':0.20,\n",
    "    'feb':0.19,\n",
    "    'mar':0.17,\n",
    "    'apr':0.18,\n",
    "    'may':0.22,\n",
    "    'jun':0.27,\n",
    "    'jul':0.24,\n",
    "    'aug':0.19,\n",
    "    'sep':0.18,\n",
    "    'oct':0.15,\n",
    "    'nov':0.14,\n",
    "    'dec':0.19\n",
    "}"
   ]
  },
  {
   "cell_type": "code",
   "execution_count": 55,
   "id": "d334a0ae-ea91-4243-a729-68f8fb88b8c7",
   "metadata": {},
   "outputs": [],
   "source": [
    "month_kwh = cl_df.groupby(by=['month']).agg({'kwh':'sum'}).reset_index()"
   ]
  },
  {
   "cell_type": "code",
   "execution_count": 56,
   "id": "42c58aee-d14f-4265-bb8f-e7992706a67c",
   "metadata": {},
   "outputs": [],
   "source": [
    "month_cost = month_kwh['month'].map(monthly_flex_rate) * month_kwh['kwh']"
   ]
  },
  {
   "cell_type": "code",
   "execution_count": 65,
   "id": "915600e8-3ba5-4fe1-8a88-42585d7b85d4",
   "metadata": {},
   "outputs": [
    {
     "name": "stdout",
     "output_type": "stream",
     "text": [
      "1421.21\n"
     ]
    }
   ],
   "source": [
    "annual_cost_monthly = month_cost.sum()\n",
    "print(np.round(annual_cost, 2))"
   ]
  },
  {
   "cell_type": "code",
   "execution_count": 58,
   "id": "3b261e4f-7ce2-4d78-8ec5-6bd174c69cbb",
   "metadata": {},
   "outputs": [],
   "source": [
    "# Question 6"
   ]
  },
  {
   "cell_type": "code",
   "execution_count": 59,
   "id": "f557fb10-72f6-4e1c-9c95-47df180311ad",
   "metadata": {},
   "outputs": [],
   "source": [
    "no_flex = 0.21"
   ]
  },
  {
   "cell_type": "code",
   "execution_count": 60,
   "id": "4b68c0e3-16f8-4acc-88ee-73a7052aa02d",
   "metadata": {},
   "outputs": [],
   "source": [
    "hourly_flex = {\n",
    "    '12AM until 1AM': 0.10,\n",
    "    '1AM until 2AM': 0.10,\n",
    "    '2AM until 3AM': 0.10,\n",
    "    '3AM until 4AM': 0.10,\n",
    "    '4AM until 5AM': 0.15,\n",
    "    '5AM until 6AM': 0.20,\n",
    "    '6AM until 7AM': 0.24,\n",
    "    '7AM until 8AM': 0.24,\n",
    "    '8AM until 9AM': 0.26,\n",
    "    '9AM until 10AM': 0.20,\n",
    "    '10AM until 11AM': 0.20,\n",
    "    '11AM until 12PM': 0.26,\n",
    "    '12PM until 1PM': 0.26,\n",
    "    '1PM until 2PM': 0.20,\n",
    "    '2PM until 3PM': 0.24,\n",
    "    '3PM until 4PM': 0.18,\n",
    "    '4PM until 5PM': 0.15,\n",
    "    '5PM until 6PM': 0.30,\n",
    "    '6PM until 7PM': 0.24,\n",
    "    '7PM until 8PM': 0.24,\n",
    "    '8PM until 9PM': 0.12,\n",
    "    '9PM until 10PM': 0.11,\n",
    "    '10PM until 11PM': 0.10,\n",
    "    '11PM until 12AM': 0.10\n",
    "\n",
    "}"
   ]
  },
  {
   "cell_type": "code",
   "execution_count": 72,
   "id": "0f44c91c-1c12-4d23-b863-6afcf1a0673a",
   "metadata": {},
   "outputs": [],
   "source": [
    "# hourly flex cost"
   ]
  },
  {
   "cell_type": "code",
   "execution_count": 62,
   "id": "109898b1-368e-463d-8224-4b8275c14f93",
   "metadata": {},
   "outputs": [],
   "source": [
    "hour_kwh = cl_df.groupby(by = ['h24']).agg({'kwh':'sum'}).reset_index(drop=True).values.ravel()"
   ]
  },
  {
   "cell_type": "code",
   "execution_count": 66,
   "id": "0f9d5fa4-3f16-444a-bf1d-67fc16ff7a66",
   "metadata": {},
   "outputs": [],
   "source": [
    "annual_cost_hourly = np.sum(hour_kwh * np.array(list(hourly_flex.values())))"
   ]
  },
  {
   "cell_type": "code",
   "execution_count": 73,
   "id": "1a040d22-302e-49a5-b2eb-c10f30ef6347",
   "metadata": {},
   "outputs": [],
   "source": [
    "# no flex cost"
   ]
  },
  {
   "cell_type": "code",
   "execution_count": 68,
   "id": "cc793f4b-0662-4799-a78d-1a03ec3a95c1",
   "metadata": {},
   "outputs": [],
   "source": [
    "annual_cost_no_flex = np.sum(cl_df['kwh']*no_flex)"
   ]
  },
  {
   "cell_type": "code",
   "execution_count": 71,
   "id": "9db83bf0-ad53-4a41-9caa-7b08294bd567",
   "metadata": {},
   "outputs": [
    {
     "data": {
      "text/plain": [
       "[{'plan': 'no flex', 'cost': 1438.104},\n",
       " {'plan': 'hourly flex', 'cost': 1368.976},\n",
       " {'plan': 'monthly flex', 'cost': 1421.206}]"
      ]
     },
     "execution_count": 71,
     "metadata": {},
     "output_type": "execute_result"
    }
   ],
   "source": [
    "annual_cost = [{'plan':'no flex', 'cost':np.around(annual_cost_no_flex,3)},\n",
    "               {'plan':'hourly flex', 'cost':np.around(annual_cost_hourly,3)},\n",
    "               {'plan':'monthly flex', 'cost':np.around(annual_cost_monthly,3)}\n",
    "              ]\n",
    "annual_cost"
   ]
  },
  {
   "cell_type": "code",
   "execution_count": 85,
   "id": "e72b37f1-d33e-47ad-a450-ed8cc52cfa4c",
   "metadata": {},
   "outputs": [
    {
     "name": "stdout",
     "output_type": "stream",
     "text": [
      "[{'cost': 1438.104, 'plan': 'no flex'},\n",
      " {'cost': 1368.976, 'plan': 'hourly flex'},\n",
      " {'cost': 1421.206, 'plan': 'monthly flex'}]\n",
      "hourly flex\n"
     ]
    }
   ],
   "source": [
    "sort = sorted(annual_cost, key = lambda x: x['cost'] , reverse = False)\n",
    "pprint(annual_cost)\n",
    "print(sort[0]['plan'])"
   ]
  },
  {
   "cell_type": "code",
   "execution_count": null,
   "id": "ee7a35ba-c898-4bed-8395-bcfa32790567",
   "metadata": {},
   "outputs": [],
   "source": []
  }
 ],
 "metadata": {
  "kernelspec": {
   "display_name": "Python 3 (ipykernel)",
   "language": "python",
   "name": "python3"
  },
  "language_info": {
   "codemirror_mode": {
    "name": "ipython",
    "version": 3
   },
   "file_extension": ".py",
   "mimetype": "text/x-python",
   "name": "python",
   "nbconvert_exporter": "python",
   "pygments_lexer": "ipython3",
   "version": "3.9.7"
  }
 },
 "nbformat": 4,
 "nbformat_minor": 5
}
